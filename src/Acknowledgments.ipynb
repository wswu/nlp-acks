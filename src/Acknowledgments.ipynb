{
 "cells": [
  {
   "cell_type": "code",
   "execution_count": 1,
   "id": "59bab7bd-71f7-423c-b876-f43f156907bf",
   "metadata": {},
   "outputs": [],
   "source": [
    "import json\n",
    "import os\n",
    "import re\n",
    "from collections import Counter\n",
    "from tqdm import tqdm\n",
    "import numpy as np\n",
    "\n",
    "import fitz  # from PyMuPDF\n",
    "\n",
    "import matplotlib.pyplot as plt\n",
    "plt.rcParams[\"font.family\"] = \"Liberation Serif\""
   ]
  },
  {
   "cell_type": "code",
   "execution_count": 3,
   "id": "77784844-0844-4bf3-b15b-b1327dc2f22f",
   "metadata": {},
   "outputs": [],
   "source": [
    "import spacy\n",
    "nlp = spacy.load(\"en_core_web_sm\")"
   ]
  },
  {
   "cell_type": "markdown",
   "id": "80c4d919-1d3a-4ff5-8939-c1a906f1cd51",
   "metadata": {},
   "source": [
    "## Split papers and extract text"
   ]
  },
  {
   "cell_type": "code",
   "execution_count": 4,
   "id": "e3b8c711-052e-4ede-86c8-62ae936eac1e",
   "metadata": {},
   "outputs": [],
   "source": [
    "def extract_text(pdffile):\n",
    "    text = ''\n",
    "    with fitz.open(pdffile) as doc:\n",
    "        for page in doc:\n",
    "            text += page.get_text() + ' '\n",
    "    return text"
   ]
  },
  {
   "cell_type": "code",
   "execution_count": 5,
   "id": "68a5e5ff-be73-4271-a145-6132f5b04b8a",
   "metadata": {},
   "outputs": [],
   "source": [
    "def write(file, contents):\n",
    "    with open(file, \"w\") as fout:\n",
    "        print(contents, file=fout)\n",
    "\n",
    "\n",
    "def extract_papers(file, output_folder, start_no=0):\n",
    "    os.makedirs(output_folder, exist_ok=True)\n",
    "    \n",
    "    with fitz.open(file) as doc:\n",
    "        current_paper = None\n",
    "        paper_no = start_no\n",
    "\n",
    "        for page in doc:\n",
    "            text = page.get_text()\n",
    "            if re.search(r\"\\nAbstract\\s*\\n\", text):  # contains \"Abstract\"\n",
    "                if current_paper is not None:\n",
    "                    write(f\"{output_folder}/{paper_no}\", current_paper)\n",
    "                    paper_no += 1\n",
    "                current_paper = text + ' '\n",
    "            elif current_paper is not None:\n",
    "                current_paper += text + ' '\n",
    "    \n",
    "    write(f\"{output_folder}/{paper_no}\", current_paper)\n",
    "    return paper_no\n",
    "\n",
    "\n",
    "def extract_all_papers():\n",
    "    for venue in [\"acl\", \"emnlp\"]:\n",
    "        for year in range(2005, 2022):\n",
    "            if os.path.exists(f\"../data/{venue}/{year}.pdf\"):\n",
    "                n_papers = extract_papers(f\"../data/{venue}/{year}.pdf\", f\"../data/extracted_text/{venue}/{year}\")\n",
    "                print(venue, year, n_papers)\n",
    "            else:  # ACL short/long are separate in several years, see download.sh\n",
    "                n_papers = extract_papers(f\"../data/{venue}/{year}-long.pdf\", f\"../data/extracted_text/{venue}/{year}\")\n",
    "                n_papers = extract_papers(f\"../data/{venue}/{year}-short.pdf\", f\"../data/extracted_text/{venue}/{year}\", start_no=n_papers)\n",
    "                print(venue, year, n_papers)"
   ]
  },
  {
   "cell_type": "code",
   "execution_count": 6,
   "id": "e514444c-3e35-47d8-b627-f06b9750fbfa",
   "metadata": {},
   "outputs": [
    {
     "name": "stdout",
     "output_type": "stream",
     "text": [
      "acl 2005 76\n",
      "acl 2006 76\n",
      "acl 2007 130\n",
      "acl 2008 118\n",
      "acl 2009 152\n",
      "acl 2010 227\n",
      "acl 2011 290\n",
      "acl 2012 186\n",
      "acl 2013 332\n",
      "acl 2014 290\n",
      "acl 2015 319\n",
      "acl 2016 331\n",
      "acl 2017 303\n",
      "acl 2018 381\n",
      "acl 2019 661\n",
      "acl 2020 781\n",
      "acl 2021 713\n",
      "emnlp 2005 125\n",
      "emnlp 2006 70\n",
      "emnlp 2007 129\n",
      "emnlp 2008 113\n",
      "emnlp 2009 162\n",
      "emnlp 2010 123\n",
      "emnlp 2011 147\n",
      "emnlp 2012 140\n",
      "emnlp 2013 204\n",
      "emnlp 2014 224\n",
      "emnlp 2015 310\n",
      "emnlp 2016 263\n",
      "emnlp 2017 324\n",
      "emnlp 2018 549\n",
      "emnlp 2019 681\n",
      "emnlp 2020 753\n",
      "emnlp 2021 850\n"
     ]
    }
   ],
   "source": [
    "extract_all_papers()"
   ]
  },
  {
   "cell_type": "markdown",
   "id": "ab80d506-d382-44d8-80d8-3aee0b437750",
   "metadata": {},
   "source": [
    "## Read and parse acks"
   ]
  },
  {
   "cell_type": "code",
   "execution_count": 7,
   "id": "85348fd1-190c-433e-993a-b83b53317736",
   "metadata": {},
   "outputs": [],
   "source": [
    "def find_next_header(text, start):\n",
    "    i = text.find(\"References\\n\", start)\n",
    "    if i == -1:\n",
    "        i = text.find(\"Ethical Considerations\\n\", start)\n",
    "    if i == -1:\n",
    "        i = text.find(\"Broader Impact\\n\", start)\n",
    "    return i"
   ]
  },
  {
   "cell_type": "code",
   "execution_count": 8,
   "id": "a14cc32f-1622-4209-8cac-d00d0ce4899f",
   "metadata": {},
   "outputs": [],
   "source": [
    "def clean_ethics(text):\n",
    "    if text is None:\n",
    "        return text\n",
    "    headers = [\"Ethical Considerations\", \"Ethical Consideration\", \"Ethical considerations\", \"Broader Impact\", \"Ethics and Broader Impact\", \"Ethics Statement\"]\n",
    "    for h in headers:\n",
    "        i = text.find(h)\n",
    "        if i > -1:\n",
    "            return text[:i]\n",
    "    return text"
   ]
  },
  {
   "cell_type": "code",
   "execution_count": 11,
   "id": "3a642636-c34c-4f05-b34f-a4a725d1a64b",
   "metadata": {},
   "outputs": [],
   "source": [
    "ACK_STRINGS = set([\"Acknowledgments\", \"Acknowledgements\", \"Acknowledgement\", \"Acknowledgment\"])\n",
    "\n",
    "def extract_ack(text):\n",
    "    header = None\n",
    "    section = None\n",
    "    for ack in ACK_STRINGS:\n",
    "        idx = text.find(ack + '\\n')\n",
    "        if idx == -1:\n",
    "            continue\n",
    "        header = ack\n",
    "        start = idx + len(ack) + 1\n",
    "        end = find_next_header(text, start)\n",
    "        section = text[start:end]\n",
    "\n",
    "    parse = None\n",
    "    if header is not None:\n",
    "        section = section.replace(\"-\\n\", \"\")  # remove hyphens\n",
    "        section = section.replace(\"\\n\", \" \")  # replace linebreaks\n",
    "        section = clean_ethics(section)\n",
    "        \n",
    "        section = re.sub(r\"(.+) \\d+  \", r\"\\1\", section)  # remove page number\n",
    "        \n",
    "        section = section.strip()\n",
    "        \n",
    "    return (header, section)"
   ]
  },
  {
   "cell_type": "code",
   "execution_count": 12,
   "id": "bd2e49d1-2adc-40ac-8ad9-dc7d7c8de922",
   "metadata": {},
   "outputs": [],
   "source": [
    "def read_acks():\n",
    "    acks = {}\n",
    "    for year in range(2005, 2022):\n",
    "        acks[year] = []\n",
    "        for venue in [\"acl\", \"emnlp\"]:\n",
    "            for file in os.listdir(f\"../data/extracted_text/{venue}/{year}\"):\n",
    "                if not os.path.isfile(f\"../data/extracted_text/{venue}/{year}/{file}\"):\n",
    "                    continue\n",
    "                with open(f\"../data/extracted_text/{venue}/{year}/{file}\") as fin:\n",
    "                    text = fin.read()\n",
    "                    header, section = extract_ack(text)\n",
    "                    acks[year].append((venue, header, section))\n",
    "    return acks"
   ]
  },
  {
   "cell_type": "code",
   "execution_count": 13,
   "id": "ed330484-00b6-47de-a0c1-6de54e431610",
   "metadata": {},
   "outputs": [],
   "source": [
    "acks = read_acks()"
   ]
  },
  {
   "cell_type": "code",
   "execution_count": 14,
   "id": "667868e9-d214-4cc7-b7dc-0bd135c26959",
   "metadata": {},
   "outputs": [],
   "source": [
    "def save_dataset(acks):\n",
    "    with open(\"../data/acks.jsonl\", \"w\") as fout:\n",
    "        for year in acks:\n",
    "                for venue, header, section in acks[year]:\n",
    "                    if header is not None:\n",
    "                        d = {\"year\": year, \"venue\": venue, \"header\": header, \"text\": section}\n",
    "                        print(json.dumps(d, ensure_ascii=False), file=fout)"
   ]
  },
  {
   "cell_type": "code",
   "execution_count": 15,
   "id": "63e4b313-5b35-45cc-b82d-ecc90125cbad",
   "metadata": {},
   "outputs": [],
   "source": [
    "save_dataset(acks)"
   ]
  },
  {
   "cell_type": "code",
   "execution_count": 17,
   "id": "98c03580-6f6e-4021-bbc8-4c82b910cdf1",
   "metadata": {},
   "outputs": [],
   "source": [
    "def read_dataset():\n",
    "    data = []\n",
    "    with open(\"../data/acks.clean.jsonl\") as fout:\n",
    "        for line in fout:\n",
    "            d = json.loads(line)\n",
    "            data.append(d)\n",
    "    return data\n",
    "\n",
    "data = read_dataset()"
   ]
  },
  {
   "cell_type": "code",
   "execution_count": 19,
   "id": "87c4b39a-9a46-464b-bdda-039c27b07e11",
   "metadata": {
    "collapsed": true,
    "jupyter": {
     "outputs_hidden": true
    },
    "tags": []
   },
   "outputs": [
    {
     "name": "stdout",
     "output_type": "stream",
     "text": [
      "11\n",
      "286\n",
      "1078\n",
      "1343\n",
      "1468\n",
      "1743\n",
      "2145\n",
      "2285\n",
      "2589\n",
      "2718\n",
      "2952\n",
      "3159\n",
      "3330\n",
      "3346\n",
      "3395\n",
      "3529\n",
      "3574\n",
      "3707\n",
      "4161\n",
      "4452\n",
      "4524\n",
      "4551\n",
      "4907\n",
      "5253\n",
      "5847\n",
      "5853\n",
      "5885\n",
      "5944\n",
      "5951\n",
      "6025\n",
      "6058\n",
      "6178\n",
      "6221\n",
      "6280\n",
      "7113\n",
      "7121\n",
      "7240\n",
      "7346\n",
      "7380\n",
      "7434\n",
      "7578\n",
      "7796\n",
      "7818\n"
     ]
    }
   ],
   "source": [
    "for i, d in enumerate(data):\n",
    "    text = d['text']\n",
    "    if len(text) > 1000 or re.findall(r\"\\d+  \", text):\n",
    "        print(i + 1)\n",
    "        \n",
    "# 286 is a valid ack, tons of people"
   ]
  },
  {
   "cell_type": "markdown",
   "id": "6150483c-3a78-4a01-a7e6-cfe346410af9",
   "metadata": {},
   "source": [
    "## How many papers total?"
   ]
  },
  {
   "cell_type": "code",
   "execution_count": 20,
   "id": "ce225caf-9a29-4f31-8758-2a64dddc5aa8",
   "metadata": {},
   "outputs": [
    {
     "data": {
      "image/png": "[encoded data removed]",
      "text/plain": [
       "<Figure size 450x250 with 1 Axes>"
      ]
     },
     "metadata": {},
     "output_type": "display_data"
    }
   ],
   "source": [
    "def count2(acks, venue):\n",
    "    return sum(x[0] == venue for x in acks)\n",
    "\n",
    "def plot_counts2(acks):\n",
    "    years = list(range(2005,2022))\n",
    "    acl = [count2(acks[year], 'acl') for year in years]\n",
    "    emnlp = [count2(acks[year], 'emnlp') for year in years]\n",
    "    \n",
    "    fig, ax = plt.subplots(figsize=(4.5,2.5))\n",
    "    \n",
    "    ax.bar(years, acl, 0.9, label='ACL')\n",
    "    ax.bar(years, emnlp, 0.9, bottom=acl, label='EMNLP', color='tan')\n",
    "    \n",
    "    ax.legend()\n",
    "    \n",
    "    plt.ylabel(\"# papers\")\n",
    "    plt.xticks(range(2005, 2022, 5))\n",
    "    \n",
    "    plt.tight_layout()\n",
    "    plt.savefig(\"figures/paper-counts.pdf\")\n",
    "    plt.show()\n",
    "\n",
    "plot_counts2(acks)"
   ]
  },
  {
   "cell_type": "code",
   "execution_count": 21,
   "id": "e2d2ab20-7237-4840-b717-60bf9218ba1d",
   "metadata": {},
   "outputs": [
    {
     "data": {
      "text/plain": [
       "56"
      ]
     },
     "execution_count": 21,
     "metadata": {},
     "output_type": "execute_result"
    }
   ],
   "source": [
    "sum(x['year'] == 2005 and x['venue'] == 'emnlp' for x in data)"
   ]
  },
  {
   "cell_type": "markdown",
   "id": "3c998c27-29c2-4764-93ce-0e6840f5ba75",
   "metadata": {},
   "source": [
    "## Percentage of papers with acknowledgments"
   ]
  },
  {
   "cell_type": "code",
   "execution_count": 22,
   "id": "cab327a0-63a4-4ab9-a72b-2ba51755244e",
   "metadata": {},
   "outputs": [
    {
     "name": "stdout",
     "output_type": "stream",
     "text": [
      "[46.30541871921182, 48.648648648648646, 48.65900383141762, 60.08583690987125, 49.68354430379747, 64.48863636363636, 69.70387243735763, 69.51219512195122, 70.817843866171, 72.86821705426357, 73.53407290015848, 79.53020134228188, 77.74244833068363, 76.931330472103, 78.7202380952381, 81.8359375, 80.19169329073482]\n"
     ]
    },
    {
     "data": {
      "image/png": "[encoded data removed]",
      "text/plain": [
       "<Figure size 400x200 with 1 Axes>"
      ]
     },
     "metadata": {},
     "output_type": "display_data"
    }
   ],
   "source": [
    "def count_not_none(arr):\n",
    "    c = 0\n",
    "    for venue, header, section in arr:\n",
    "        if header is not None:\n",
    "            c += 1\n",
    "    return c\n",
    "\n",
    "def plot_proportion(acks):\n",
    "    years = sorted(acks.keys())\n",
    "    props = [count_not_none(acks[year]) * 100 / len(acks[year]) for year in years]\n",
    "    \n",
    "    print(props)\n",
    "    plt.figure(figsize=(4,2))\n",
    "    plt.plot(years, props, 'o-')\n",
    "    plt.ylim([0.0, 100.0])\n",
    "    plt.ylabel(\"% Papers\")\n",
    "    \n",
    "    plt.tight_layout()\n",
    "    plt.savefig(\"has_acks.pdf\")\n",
    "    plt.show()\n",
    "    \n",
    "plot_proportion(acks)\n",
    "    "
   ]
  },
  {
   "cell_type": "markdown",
   "id": "fbd2beec-04d7-49cc-831c-d01dc2f1ee83",
   "metadata": {},
   "source": [
    "## Length of Acknowledgments"
   ]
  },
  {
   "cell_type": "code",
   "execution_count": 23,
   "id": "bd640041-2cbb-42ac-8aa5-338412eb8ff4",
   "metadata": {},
   "outputs": [
    {
     "data": {
      "text/plain": [
       "7838"
      ]
     },
     "execution_count": 23,
     "metadata": {},
     "output_type": "execute_result"
    }
   ],
   "source": [
    "len(data)"
   ]
  },
  {
   "cell_type": "code",
   "execution_count": 25,
   "id": "1b729a2b-e87a-443d-a0fe-e8888a638a52",
   "metadata": {},
   "outputs": [
    {
     "name": "stdout",
     "output_type": "stream",
     "text": [
      "mean: 305.1980096963511\n",
      "std: 172.55832030867379\n",
      "min: 35\n",
      "max: 2408\n"
     ]
    },
    {
     "data": {
      "image/png": "[encoded data removed]",
      "text/plain": [
       "<Figure size 400x250 with 1 Axes>"
      ]
     },
     "metadata": {},
     "output_type": "display_data"
    }
   ],
   "source": [
    "def plot_ack_lengths():\n",
    "    lengths = []\n",
    "    for d in data:\n",
    "        lengths.append(len(d['text']))\n",
    "        \n",
    "    print('mean:', np.mean(lengths))\n",
    "    print('std:', np.std(lengths))\n",
    "    print('min:', min(l for l in lengths if l != 0))\n",
    "    print('max:', max(lengths))\n",
    "\n",
    "    plt.figure(figsize=(4,2.5))\n",
    "    plt.hist(lengths, bins=20)\n",
    "    plt.xlabel(\"# Characters\")\n",
    "    plt.ylabel(\"# Acknowledgments\")\n",
    "    plt.tight_layout()\n",
    "\n",
    "    plt.savefig(\"figures/lengths.pdf\")\n",
    "    plt.show()\n",
    "\n",
    "\n",
    "plot_ack_lengths()"
   ]
  },
  {
   "cell_type": "markdown",
   "id": "ec47d3c9-128d-45f0-a43c-9e3908dfedbb",
   "metadata": {},
   "source": [
    "## Who is acknowledged?"
   ]
  },
  {
   "cell_type": "code",
   "execution_count": 26,
   "id": "44283a55-7d4f-464b-a51e-0c70f99ece12",
   "metadata": {},
   "outputs": [],
   "source": [
    "parses = [nlp(d['text']) for d in data]"
   ]
  },
  {
   "cell_type": "code",
   "execution_count": 27,
   "id": "ce5013b8-a9eb-4da9-bf77-ac92b566a8cc",
   "metadata": {},
   "outputs": [],
   "source": [
    "def add_children(tokens):\n",
    "    for i, t in enumerate(tokens):\n",
    "        tokens[i]['children'] = set()\n",
    "    for i, t in enumerate(tokens):\n",
    "        if t['dep'] != 'ROOT':\n",
    "            head = t['head']\n",
    "            tokens[head]['children'].add(t['id'])"
   ]
  },
  {
   "cell_type": "code",
   "execution_count": 28,
   "id": "44aa297b-b29d-4cf9-9044-687330933422",
   "metadata": {},
   "outputs": [],
   "source": [
    "def flood_children(tokens, i):\n",
    "    seen = set()\n",
    "    s = [i]\n",
    "    while s != []:\n",
    "        id = s.pop()\n",
    "        seen.add(id)\n",
    "        for ch in tokens[id]['children']:\n",
    "            s.append(ch)\n",
    "    return seen"
   ]
  },
  {
   "cell_type": "code",
   "execution_count": 8,
   "id": "e57cf5f8-e984-4d24-9c3f-e11f58a8c0ed",
   "metadata": {},
   "outputs": [],
   "source": [
    "def all_children(tok):\n",
    "    seen = set()\n",
    "    s = [tok]\n",
    "    while s != []:\n",
    "        t = s.pop()\n",
    "        seen.add(t)\n",
    "        for ch in t.children:\n",
    "            s.append(ch)\n",
    "    return sorted([t.i for t in seen])"
   ]
  },
  {
   "cell_type": "code",
   "execution_count": 29,
   "id": "7eb3fd5f-b4f1-4df7-8c5d-cab1d610b228",
   "metadata": {},
   "outputs": [],
   "source": [
    "def make_ignore_set(parse):\n",
    "    ignore = set()\n",
    "\n",
    "    # sentences about corresponding author\n",
    "    for s in parse.sents:\n",
    "        if 'corresponding author' in s.text or 'contact author' in s.text:\n",
    "            for id in range(s.start, s.end):\n",
    "                ignore.add(id)\n",
    "    \n",
    "    tokens = parse.to_json()['tokens']\n",
    "    add_children(tokens)\n",
    "    \n",
    "    # passive subject of \"is supported by\"\n",
    "    support_verbs = set(['support', 'fund'])\n",
    "    for t in tokens:\n",
    "        if t['lemma'] in support_verbs:\n",
    "            for cid in t['children']:\n",
    "                child = tokens[cid]\n",
    "                if child['dep'] == 'nsubjpass':\n",
    "                    for id in flood_children(tokens, child['id']):\n",
    "                        ignore.add(id)\n",
    "\n",
    "    # subject of \"acknowledge\"\n",
    "    thanking_verbs = set(['thank', 'acknowledge', 'appreciate', 'enjoy'])\n",
    "    for t in tokens:\n",
    "        if t['lemma'] in thanking_verbs:\n",
    "            for cid in t['children']:\n",
    "                child = tokens[cid]\n",
    "                if child['dep'] == 'nsubj':\n",
    "                    for id in flood_children(tokens, child['id']):\n",
    "                        ignore.add(id)\n",
    "    \n",
    "    return ignore"
   ]
  },
  {
   "cell_type": "code",
   "execution_count": 31,
   "id": "febaf36f-0855-44b7-aeba-5d2ad6fbe327",
   "metadata": {},
   "outputs": [],
   "source": [
    "abbreviations = {\n",
    "    \"National Science Foundation\": \"NSF\",\n",
    "    \"Defense Advanced Research Projects Agency\": \"DARPA\",\n",
    "    \"The U.S. Government\": \"U.S. Government\",\n",
    "    \"European Research Council\": \"ERC\",\n",
    "    \"Intelligence Advanced Research Projects Activity\": \"IARPA\",\n",
    "    \"Natural Science Foundation of China\": \"NSFC\",\n",
    "    \"National Natural Science Foundation of China\": \"NSFC\",\n",
    "    \"National Key Research and Development Program of China\": \"NKP\",\n",
    "    \"National Key R&D Program of China\": \"NKP\",\n",
    "    \"Army Research Office\": \"ARO\",\n",
    "    \"Office of Naval Research\": \"ONR\",\n",
    "    \"Air Force Research Laboratory\": \"AFRL\",\n",
    "    \"Engineering and Physical Sciences Research Council\": \"EPSRC\"\n",
    "}\n",
    "\n",
    "def abbreviate(name):\n",
    "    return abbreviations.get(name, name)"
   ]
  },
  {
   "cell_type": "code",
   "execution_count": 32,
   "id": "742f6916-8929-4878-a4b2-bb390df71789",
   "metadata": {},
   "outputs": [
    {
     "name": "stdout",
     "output_type": "stream",
     "text": [
      "['National Key Research and Development Program of China', 'Engineering and Physical Sciences Research Council', 'Intelligence Advanced Research Projects Activity', 'National Natural Science Foundation of China', 'Defense Advanced Research Projects Agency', 'Natural Science Foundation of China', 'National Key R&D Program of China', 'Air Force Research Laboratory', 'National Science Foundation', 'European Research Council', 'Office of Naval Research', 'Army Research Office', 'The U.S. Government']\n"
     ]
    }
   ],
   "source": [
    "def count_govt_acks(data, parses):\n",
    "    count_govt = Counter()\n",
    "    sorted_abbrs = sorted(abbreviations, key=lambda x: -len(x))\n",
    "    print(sorted_abbrs)\n",
    "\n",
    "    for d, p in zip(data, parses):\n",
    "        seen = set()\n",
    "\n",
    "        text = d['text']\n",
    "        for name in sorted_abbrs:\n",
    "            text = text.replace(name, abbreviations[name])\n",
    "\n",
    "\n",
    "        for abbr in abbreviations.values():\n",
    "            myregex = r\"\\W\" + re.escape(abbr) + r\"\\W\"\n",
    "            if re.findall(myregex, text):\n",
    "                seen.add(abbr)\n",
    "                count_govt[abbr] += 1\n",
    "\n",
    "        for e in p.ents:\n",
    "            if e.label_ == 'ORG':\n",
    "                abbr = re.sub(r\"^[Tt]he \", \"\", e.text)\n",
    "                abbr = abbreviate(abbr)\n",
    "\n",
    "                if abbr not in seen:\n",
    "                    seen.add(abbr)\n",
    "                    count_govt[abbr] += 1\n",
    "    return count_govt\n",
    "\n",
    "count_govt = count_govt_acks(data, parses)"
   ]
  },
  {
   "cell_type": "code",
   "execution_count": 33,
   "id": "051c46d3",
   "metadata": {},
   "outputs": [
    {
     "name": "stdout",
     "output_type": "stream",
     "text": [
      "NSFC & 2408 \\\\\n",
      "NSF & 1653 \\\\\n",
      "DARPA & 920 \\\\\n",
      "NKP & 762 \\\\\n",
      "U.S. Government & 357 \\\\\n",
      "ERC & 348 \\\\\n",
      "EPSRC & 219 \\\\\n",
      "AFRL & 161 \\\\\n",
      "IARPA & 158 \\\\\n",
      "ARO & 154 \\\\\n",
      "Google & 149 \\\\\n",
      "ONR & 147 \\\\\n",
      "German Research Foundation & 138 \\\\\n",
      "DFG & 128 \\\\\n",
      "European Union’s & 118 \\\\\n",
      "EU & 98 \\\\\n",
      "National Research Foundation & 96 \\\\\n",
      "Fundamental Research Funds & 96 \\\\\n",
      "ACL & 92 \\\\\n",
      "NSERC & 89 \\\\\n"
     ]
    }
   ],
   "source": [
    "for k, v in count_govt.most_common(20):\n",
    "    print(k, '&', v, '\\\\\\\\')"
   ]
  },
  {
   "cell_type": "code",
   "execution_count": 35,
   "id": "9faf71cb-bea8-4f01-aa70-0d2723f09cd1",
   "metadata": {},
   "outputs": [],
   "source": [
    "# govt funders by year\n",
    "\n",
    "govt_top10 = set([\"NSFC\", \"NSF\", \"DARPA\", \"NKP\", \"ERC\", \"EPSRC\", \"AFRL\", \"IARPA\", \"ARO\", \"ONR\"])\n",
    "\n",
    "def govt_by_year(data, parses):\n",
    "    count_govt_by_year = {}\n",
    "    sorted_abbrs = sorted(abbreviations, key=lambda x: -len(x))\n",
    "    \n",
    "    \n",
    "    def add(year, org):\n",
    "        if org not in count_govt_by_year:\n",
    "            count_govt_by_year[org] = Counter()\n",
    "        count_govt_by_year[org][year] += 1\n",
    "        \n",
    "        \n",
    "    for d, p in zip(data, parses):\n",
    "        seen = set()\n",
    "\n",
    "        text = d['text']\n",
    "        for name in sorted_abbrs:\n",
    "            text = text.replace(name, abbreviations[name])\n",
    "\n",
    "        for abbr in abbreviations.values():\n",
    "            myregex = r\"\\W\" + re.escape(abbr) + r\"\\W\"\n",
    "            if re.findall(myregex, text):\n",
    "                if abbr in govt_top10:\n",
    "                    seen.add(abbr)\n",
    "                    add(d['year'], abbr)\n",
    "\n",
    "        for e in p.ents:\n",
    "            if e.label_ == 'ORG':\n",
    "                abbr = re.sub(r\"^[Tt]he \", \"\", e.text)\n",
    "                abbr = abbreviate(abbr)\n",
    "\n",
    "                if abbr not in seen and abbr in govt_top10:\n",
    "                    seen.add(abbr)\n",
    "                    add(d['year'], abbr)\n",
    "    return count_govt_by_year\n",
    "\n",
    "count_govt_year = govt_by_year(data, parses)"
   ]
  },
  {
   "cell_type": "code",
   "execution_count": 37,
   "id": "b0b39619-43a6-46b6-b7f0-95614e5be39a",
   "metadata": {},
   "outputs": [
    {
     "data": {
      "image/png": "[encoded data removed]",
      "text/plain": [
       "<Figure size 400x250 with 1 Axes>"
      ]
     },
     "metadata": {},
     "output_type": "display_data"
    }
   ],
   "source": [
    "def plot_govt_by_year(gov):\n",
    "    fig, ax = plt.subplots(figsize=(4,2.5))\n",
    "    \n",
    "    years = range(2005, 2022)\n",
    "    for org in sorted(govt_top10, key=lambda org: -sum(gov[org].values()))[:5]:\n",
    "        counts = [gov[org][y] for y in years]\n",
    "        \n",
    "        first_nonzero = 0\n",
    "        for i in range(len(counts)):\n",
    "            if counts[i] > 0:\n",
    "                first_nonzero = i\n",
    "                break\n",
    "        \n",
    "        x = years[first_nonzero:]\n",
    "        y = counts[first_nonzero:]\n",
    "        ax.plot(x, y, 'o-', label=org, )\n",
    "    \n",
    "    ax.legend(frameon=False)\n",
    "    \n",
    "    plt.ylabel(\"# acknowledgments\")\n",
    "    plt.xticks(range(2006, 2022, 2))\n",
    "    plt.tight_layout()\n",
    "    plt.savefig(\"figures/govt-by-year.pdf\")\n",
    "    plt.show()\n",
    "\n",
    "plot_govt_by_year(count_govt_year)"
   ]
  },
  {
   "cell_type": "code",
   "execution_count": 69,
   "id": "21c7298e-cf64-440f-9f70-554d8cc75db2",
   "metadata": {},
   "outputs": [],
   "source": [
    "def count_grants(data, parses):\n",
    "    grant_list = set(['678254', 'CwC', 'AIDA', 'MCS'])\n",
    "    counts = {}\n",
    "    for d, p in zip(data, parses):\n",
    "        ignore = make_ignore_set(p)\n",
    "        ents = p.ents\n",
    "\n",
    "        for e in ents:\n",
    "            if any(i in ignore for i in range(e.start, e.end)):\n",
    "                continue\n",
    "\n",
    "            text = re.sub(r\"^the \", \"\", e.text)\n",
    "            text = re.sub(r\"([Ff]ocused)? [Rr]esearch [Aa]ward\", \"\", text)\n",
    "            text = abbreviate(text)\n",
    "            \n",
    "            for grant in grant_list:\n",
    "                if grant in text:\n",
    "                    if grant not in counts:\n",
    "                        counts[grant] = Counter()\n",
    "                    counts[grant][d['year']] += 1\n",
    "    return counts\n",
    "\n",
    "grant_counts = count_grants(data, parses)"
   ]
  },
  {
   "cell_type": "code",
   "execution_count": 70,
   "id": "fe326b20",
   "metadata": {},
   "outputs": [
    {
     "data": {
      "text/plain": [
       "{'CwC': Counter({2016: 3, 2017: 4, 2018: 6, 2019: 8, 2020: 11, 2021: 2}),\n",
       " '678254': Counter({2017: 2, 2018: 3, 2019: 11, 2020: 7, 2021: 7}),\n",
       " 'AIDA': Counter({2018: 8, 2019: 13, 2020: 10, 2021: 3}),\n",
       " 'MCS': Counter({2019: 8, 2020: 16, 2021: 20})}"
      ]
     },
     "execution_count": 70,
     "metadata": {},
     "output_type": "execute_result"
    }
   ],
   "source": [
    "grant_counts"
   ]
  },
  {
   "cell_type": "code",
   "execution_count": 73,
   "id": "ff550d4c-502b-46a8-8a33-5e97ea722008",
   "metadata": {},
   "outputs": [
    {
     "data": {
      "image/png": "[encoded data removed]",
      "text/plain": [
       "<Figure size 350x250 with 1 Axes>"
      ]
     },
     "metadata": {},
     "output_type": "display_data"
    }
   ],
   "source": [
    "def plot_grants(grant_counts):\n",
    "    fig = plt.figure(figsize=(3.5,2.5))\n",
    "    years = range(2005, 2022)\n",
    "    grants = grant_counts.keys()\n",
    "    \n",
    "    for g in grants:\n",
    "        counts = [grant_counts[g][year] for year in years]\n",
    "        \n",
    "        first_nonzero = 0\n",
    "        for i in range(len(counts)):\n",
    "            if counts[i] > 0:\n",
    "                first_nonzero = i\n",
    "                break\n",
    "        \n",
    "        x = years[first_nonzero:]\n",
    "        y = counts[first_nonzero:]\n",
    "        plt.plot(x, y, 'o-', label=g)\n",
    "        \n",
    "        # plt.plot(years, counts, 'o-', label=g)\n",
    "    \n",
    "    plt.legend(frameon=False)\n",
    "    \n",
    "    plt.ylabel(\"# acknowledgments\")\n",
    "    plt.tight_layout()\n",
    "    plt.savefig(\"figures/grants.pdf\")\n",
    "    plt.show()\n",
    "    \n",
    "plot_grants(grant_counts)"
   ]
  },
  {
   "cell_type": "code",
   "execution_count": 42,
   "id": "826f2dbd-4e9e-4f47-861c-d922516273c1",
   "metadata": {},
   "outputs": [],
   "source": [
    "count_reviewers = 0\n",
    "for d in data:\n",
    "    if 'reviewer' in d['text'] or 'reviewers' in d['text']:\n",
    "        count_reviewers += 1"
   ]
  },
  {
   "cell_type": "code",
   "execution_count": 43,
   "id": "28b725ee-59fe-43b9-bf20-62dd18262388",
   "metadata": {},
   "outputs": [
    {
     "data": {
      "text/plain": [
       "4065"
      ]
     },
     "execution_count": 43,
     "metadata": {},
     "output_type": "execute_result"
    }
   ],
   "source": [
    "count_reviewers"
   ]
  },
  {
   "cell_type": "code",
   "execution_count": 44,
   "id": "3ff0b189-556a-4041-ae0e-7c5c5edbc06a",
   "metadata": {},
   "outputs": [
    {
     "data": {
      "text/plain": [
       "0.5186272008165348"
      ]
     },
     "execution_count": 44,
     "metadata": {},
     "output_type": "execute_result"
    }
   ],
   "source": [
    "count_reviewers / len(data)"
   ]
  },
  {
   "cell_type": "markdown",
   "id": "34567ccb-2912-4ea2-8c7a-ceeead3126a7",
   "metadata": {},
   "source": [
    "## Industry acks"
   ]
  },
  {
   "cell_type": "code",
   "execution_count": 45,
   "id": "bed444b3-c2ef-4068-b8f3-e77ff7185911",
   "metadata": {},
   "outputs": [],
   "source": [
    "count_industry = Counter()\n",
    "companies = set([\"google\", \"facebook\", \"microsoft\", \"ebay\", \"amazon\", \"adobe\", \"apple\", \"nvidia\", \"bloomberg\", \"salesforce\", \"ericsson\", \"intel\", \"futurewei\", \"vmware\"])\n",
    "for d in data:\n",
    "    for c in companies:\n",
    "        if c in d['text'].lower():\n",
    "            count_industry[c] += 1"
   ]
  },
  {
   "cell_type": "code",
   "execution_count": 46,
   "id": "8b6eab36-0d99-45ce-99b0-71c31b41636d",
   "metadata": {},
   "outputs": [
    {
     "name": "stdout",
     "output_type": "stream",
     "text": [
      "google & 576 \\\\\n",
      "intel & 536 \\\\\n",
      "nvidia & 224 \\\\\n",
      "microsoft & 182 \\\\\n",
      "amazon & 161 \\\\\n",
      "facebook & 120 \\\\\n",
      "bloomberg & 77 \\\\\n",
      "adobe & 34 \\\\\n",
      "salesforce & 28 \\\\\n",
      "ebay & 19 \\\\\n",
      "apple & 18 \\\\\n",
      "ericsson & 5 \\\\\n",
      "vmware & 5 \\\\\n",
      "futurewei & 1 \\\\\n"
     ]
    }
   ],
   "source": [
    "for k, v in count_industry.most_common():\n",
    "    print(k, '&', v, '\\\\\\\\')"
   ]
  },
  {
   "cell_type": "code",
   "execution_count": 47,
   "id": "bce372b9-73ee-4ed6-ba41-7fe6d5a4e8aa",
   "metadata": {},
   "outputs": [],
   "source": [
    "def industry_by_year(data):\n",
    "    count_industry = {}\n",
    "    companies = set([\"google\", \"facebook\", \"microsoft\", \"ebay\", \"amazon\", \"adobe\", \"apple\", \"nvidia\", \"bloomberg\", \"salesforce\", \"ericsson\", \"intel\", \"futurewei\", \"vmware\"])\n",
    "    for d in data:\n",
    "        for c in companies:\n",
    "            if c in d['text'].lower():\n",
    "                if c not in count_industry:\n",
    "                    count_industry[c] = Counter()\n",
    "                count_industry[c][d['year']] += 1\n",
    "    return count_industry\n",
    "\n",
    "count_industry_year = industry_by_year(data)"
   ]
  },
  {
   "cell_type": "code",
   "execution_count": 48,
   "id": "1b11c05d-52af-4459-8654-7d870b4c6824",
   "metadata": {},
   "outputs": [
    {
     "data": {
      "image/png": "[encoded data removed]",
      "text/plain": [
       "<Figure size 400x250 with 1 Axes>"
      ]
     },
     "metadata": {},
     "output_type": "display_data"
    }
   ],
   "source": [
    "def plot_industry_by_year(gov):\n",
    "    fig, ax = plt.subplots(figsize=(4,2.5))\n",
    "    \n",
    "    years = range(2005, 2022)\n",
    "    for org in sorted(companies, key=lambda org: -sum(gov[org].values()))[:5]:\n",
    "        if org != \"nvidia\":\n",
    "            continue\n",
    "        counts = [gov[org][y] for y in years]\n",
    "        \n",
    "        first_nonzero = 0\n",
    "        for i in range(len(counts)):\n",
    "            if counts[i] > 0:\n",
    "                first_nonzero = i\n",
    "                break\n",
    "        \n",
    "        x = years[first_nonzero:]\n",
    "        y = counts[first_nonzero:]\n",
    "        ax.plot(x, y, 'o-', label=org, )\n",
    "    \n",
    "    ax.legend(frameon=False)\n",
    "    \n",
    "    # plt.ylabel(\"# acknowledgments\")\n",
    "    plt.xticks(range(2006, 2022, 2))\n",
    "    plt.tight_layout()\n",
    "    plt.savefig(\"figures/industry-by-year.pdf\")\n",
    "    plt.show()\n",
    "\n",
    "plot_industry_by_year(count_industry_year)"
   ]
  },
  {
   "cell_type": "markdown",
   "id": "e6e27263-a056-44f6-9b63-563382873ce9",
   "metadata": {},
   "source": [
    "## How do people spell acknowledgement anyway?"
   ]
  },
  {
   "cell_type": "code",
   "execution_count": 54,
   "id": "562bce73-91af-4085-a905-726403687301",
   "metadata": {},
   "outputs": [
    {
     "data": {
      "image/png": "[encoded data removed]",
      "text/plain": [
       "<Figure size 400x300 with 1 Axes>"
      ]
     },
     "metadata": {},
     "output_type": "display_data"
    }
   ],
   "source": [
    "def plot_spelling2(data):\n",
    "    all_counts = {ack: [0 for i in range(2005, 2022)] for ack in ACK_STRINGS}\n",
    "\n",
    "    for ack in data:\n",
    "        all_counts[ack[\"header\"]][ack[\"year\"] - 2005] += 1\n",
    "    \n",
    "    plt.figure(figsize=(4,3))\n",
    "    \n",
    "    years = sorted(acks.keys())\n",
    "    \n",
    "    for ack in [\"Acknowledgments\", \"Acknowledgements\", \"Acknowledgement\", \"Acknowledgment\"]:\n",
    "        plt.plot(years, all_counts[ack], '-', label=ack)\n",
    "    \n",
    "    plt.ylabel(\"# papers\")\n",
    "    \n",
    "    plt.legend()\n",
    "    \n",
    "    plt.tight_layout()\n",
    "    plt.savefig(\"figures/spelling.pdf\")\n",
    "    plt.show()\n",
    "    \n",
    "\n",
    "plot_spelling2(data)"
   ]
  },
  {
   "cell_type": "markdown",
   "id": "e5f67059-b1a4-44d7-bc84-844e3d1a2569",
   "metadata": {},
   "source": [
    "## Who are acknowledged?"
   ]
  },
  {
   "cell_type": "code",
   "execution_count": 56,
   "id": "43c929ac-fc49-4da3-97dd-c6b3241c8310",
   "metadata": {},
   "outputs": [],
   "source": [
    "entities = Counter()\n",
    "for p in parses:\n",
    "    for e in p.ents:\n",
    "        text = e.text\n",
    "        text = re.sub(r\"^[Tt]he \", \"\", text)\n",
    "        entities[text] += 1"
   ]
  },
  {
   "cell_type": "code",
   "execution_count": 57,
   "id": "d6e2e946-f1fa-47ae-abdb-0d5cf911a6c7",
   "metadata": {
    "collapsed": true,
    "jupyter": {
     "outputs_hidden": true
    },
    "tags": []
   },
   "outputs": [
    {
     "data": {
      "text/plain": [
       "[('NSF', 1111),\n",
       " ('National Natural Science Foundation of China', 913),\n",
       " ('DARPA', 859),\n",
       " ('U.S. Government', 576),\n",
       " ('National Science Foundation', 560),\n",
       " ('three', 392),\n",
       " ('China', 223),\n",
       " ('Defense Advanced Research Projects Agency', 208),\n",
       " ('National Key Research and Development Program of China', 196),\n",
       " ('EPSRC', 195)]"
      ]
     },
     "execution_count": 57,
     "metadata": {},
     "output_type": "execute_result"
    }
   ],
   "source": [
    "entities.most_common(10)"
   ]
  },
  {
   "cell_type": "code",
   "execution_count": 58,
   "id": "db14f180-0250-4bce-80ad-51686c573878",
   "metadata": {},
   "outputs": [],
   "source": [
    "people = Counter()\n",
    "for p in parses:\n",
    "    for e in p.ents:\n",
    "        if e.label_ == \"PERSON\":\n",
    "            text = e.text\n",
    "            text = re.sub(r\"^[Tt]he \", \"\", text)\n",
    "            people[text] += 1"
   ]
  },
  {
   "cell_type": "code",
   "execution_count": 59,
   "id": "a31d3c15-7d58-4240-bef9-20b99d4c156d",
   "metadata": {},
   "outputs": [
    {
     "data": {
      "text/plain": [
       "[('Grant No', 148),\n",
       " ('DEFT', 53),\n",
       " ('Yue Zhang', 49),\n",
       " ('KAKENHI', 49),\n",
       " ('Luke Zettlemoyer', 46),\n",
       " ('Michael Collins', 41),\n",
       " ('Grant Nos', 41),\n",
       " ('Yoav Goldberg', 31),\n",
       " ('Xu Sun', 30),\n",
       " ('GU', 28)]"
      ]
     },
     "execution_count": 59,
     "metadata": {},
     "output_type": "execute_result"
    }
   ],
   "source": [
    "people.most_common(10)"
   ]
  },
  {
   "cell_type": "markdown",
   "id": "f218ee44-5ab5-4c9c-afbd-711d6b3dd40a",
   "metadata": {},
   "source": [
    "## What are they acknowledged for?"
   ]
  },
  {
   "cell_type": "code",
   "execution_count": 60,
   "id": "fe05a71c-de39-4fec-ba66-c80f5ed2b486",
   "metadata": {},
   "outputs": [],
   "source": [
    "def thankful_for(parses):\n",
    "    counts = Counter()\n",
    "    for p in parses:\n",
    "        for tok in p:\n",
    "            if tok.lemma_ == 'for':\n",
    "                for c in tok.children:\n",
    "                    counts[c.lemma_] += 1\n",
    "    return counts"
   ]
  },
  {
   "cell_type": "code",
   "execution_count": 61,
   "id": "6dc980cf-af41-42ca-bc3f-39c6bfce85c9",
   "metadata": {},
   "outputs": [],
   "source": [
    "thanks = thankful_for(parses)"
   ]
  },
  {
   "cell_type": "code",
   "execution_count": 62,
   "id": "04dc9f0a-8456-4863-be3f-df142b07203a",
   "metadata": {},
   "outputs": [
    {
     "name": "stdout",
     "output_type": "stream",
     "text": [
      "comment & 2866 \\\\\n",
      "feedback & 1065 \\\\\n",
      "discussion & 926 \\\\\n",
      "help & 579 \\\\\n",
      "suggestion & 503 \\\\\n",
      "provide & 492 \\\\\n",
      "support & 289 \\\\\n",
      "purpose & 248 \\\\\n",
      "share & 149 \\\\\n",
      "Research & 135 \\\\\n",
      "advice & 120 \\\\\n",
      "Universities & 101 \\\\\n",
      "assistance & 93 \\\\\n",
      "work & 87 \\\\\n",
      "and & 73 \\\\\n",
      "Intelligence & 70 \\\\\n",
      "research & 64 \\\\\n",
      "contribution & 63 \\\\\n",
      "Science & 61 \\\\\n",
      "input & 57 \\\\\n"
     ]
    }
   ],
   "source": [
    "for k, v in thanks.most_common(20):\n",
    "    print(k, '&', v, '\\\\\\\\')"
   ]
  }
 ],
 "metadata": {
  "kernelspec": {
   "display_name": "story2",
   "language": "python",
   "name": "python3"
  },
  "language_info": {
   "codemirror_mode": {
    "name": "ipython",
    "version": 3
   },
   "file_extension": ".py",
   "mimetype": "text/x-python",
   "name": "python",
   "nbconvert_exporter": "python",
   "pygments_lexer": "ipython3",
   "version": "3.10.4 (main, Mar 31 2022, 08:41:55) [GCC 7.5.0]"
  },
  "vscode": {
   "interpreter": {
    "hash": "82ee85c6315d092eb18ab1834900d88f9d59f4d4ceaf7f315bf6f8f117580654"
   }
  }
 },
 "nbformat": 4,
 "nbformat_minor": 5
}
